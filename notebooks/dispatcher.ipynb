{
 "cells": [
  {
   "cell_type": "markdown",
   "metadata": {},
   "source": "# Setting the import path"
  },
  {
   "cell_type": "code",
   "execution_count": 1,
   "metadata": {},
   "outputs": [],
   "source": "import math\nimport sys\nimport torch\n\nsys.path.append('../')"
  },
  {
   "cell_type": "markdown",
   "metadata": {},
   "source": "# Generating text using the various models"
  },
  {
   "cell_type": "markdown",
   "metadata": {},
   "source": "####  Here the text is generated token by token, without any temperature or tree search optimization"
  },
  {
   "cell_type": "code",
   "execution_count": 2,
   "metadata": {},
   "outputs": [],
   "source": "prompt = 'The team won the cup'"
  },
  {
   "cell_type": "markdown",
   "metadata": {},
   "source": "### Plain Dispatcher on wikitext2"
  },
  {
   "cell_type": "code",
   "execution_count": 3,
   "metadata": {
    "scrolled": false
   },
   "outputs": [
    {
     "name": "stderr",
     "output_type": "stream",
     "text": "/home/alce/src/tacred_rel/.env/lib/python3.6/site-packages/torchtext/data/field.py:150: UserWarning: Field class will be retired in the 0.8.0 release and moved to torchtext.legacy. Please see 0.7.0 release notes for further information.\n  warnings.warn('{} class will be retired in the 0.8.0 release and moved to torchtext.legacy. Please see 0.7.0 release notes for further information.'.format(self.__class__.__name__), UserWarning)\n/home/alce/src/tacred_rel/.env/lib/python3.6/site-packages/torchtext/data/example.py:78: UserWarning: Example class will be retired in the 0.8.0 release and moved to torchtext.legacy. Please see 0.7.0 release notes for further information.\n  warnings.warn('Example class will be retired in the 0.8.0 release and moved to torchtext.legacy. Please see 0.7.0 release notes for further information.', UserWarning)\n/home/alce/src/tacred_rel/.env/lib/python3.6/site-packages/torch/nn/functional.py:1625: UserWarning: nn.functional.sigmoid is deprecated. Use torch.sigmoid instead.\n  warnings.warn(\"nn.functional.sigmoid is deprecated. Use torch.sigmoid instead.\")\n"
    },
    {
     "name": "stdout",
     "output_type": "stream",
     "text": "The team won the cup in the final . <eos> , the bulls won the nbain in the finals of the finals of the finals of the finals . <eos> in the finals of the finals of the year , and the bulls won the finals of the < unk > championship . the final series of the nbame , the bulls won the nbain award for the best @ - @ time in the nbame . the series was the first time since the second season , the bulls won the nbain in the series . <eos> , the bulls won the award for best game award . <eos> , the bulls won the award for best game award . <eos> , the < unk > award for best in the second best game of the series . the game was the first game of the series , and was the first game of the series . the game was the first game of the series , and was the first game of the game . the game was the game ' s game , and was the game ' s game , and was the game ' s\n"
    }
   ],
   "source": "from dispatcher.generate_plain_dispatcher_on_wikitext2 import generate_text\nprint(generate_text(prompt))"
  },
  {
   "cell_type": "markdown",
   "metadata": {},
   "source": "### Plain Dispatcher on wikitext103"
  },
  {
   "cell_type": "code",
   "execution_count": 4,
   "metadata": {},
   "outputs": [
    {
     "name": "stdout",
     "output_type": "stream",
     "text": "The team won the cup in the first round of the competition. \n\n= = = = = 2008  09 = = = = \n\nin the first round of the 2008  09 season, the team lost 2  1 to slovenia. they were eliminated in the second round of the competition, but lost to eventual champions slovenia. they were eliminated in the semi @ - @ finals, but lost to eventual champions slovenia. they lost to slovenia in the semi @ - @ final. they were eliminated in the semi @ - @ finals, but lost to eventual champions slovenia. \n\n= = = = = semi @ - @ finals = = = = \n\nin the final, they lost to slovenia in the semi @ - @ finals. they lost to slovenia in the semi @ - @ finals. they lost to slovenia\n"
    }
   ],
   "source": "from dispatcher.generate_plain_dispatcher_on_wikitext103 import generate_text\nprint(generate_text(prompt))"
  },
  {
   "cell_type": "markdown",
   "metadata": {},
   "source": "### Dispatcher after OpenWebText on wikitext2"
  },
  {
   "cell_type": "code",
   "execution_count": 5,
   "metadata": {},
   "outputs": [
    {
     "name": "stdout",
     "output_type": "stream",
     "text": "The team won the cup in the first round of the 2010 world cup, but lost to the united states in the final. \n\n= = = = europe = = = = \n\nthe european cup was the first european cup to be played in the european cup in the united states. the euro was the first european cup to be played in the european cup since the euro's founding in 1851. the euro was the first european cup to be played in europe since the euro's founding in 1848. \n\n= = = european european european cup = = = \n\neuropean european cupcake \neuropean cup \neuropium \neuropium \n<unk> \neurop\n"
    }
   ],
   "source": "from dispatcher.generate_dispatcher_from_openwebtext_on_wikidata2 import generate_text\nprint(generate_text(prompt))"
  },
  {
   "cell_type": "markdown",
   "metadata": {},
   "source": "### Dispatcher after OpenWebText on wikitext103"
  },
  {
   "cell_type": "code",
   "execution_count": 6,
   "metadata": {},
   "outputs": [
    {
     "name": "stdout",
     "output_type": "stream",
     "text": "The team won the cup in the first round, and the team won the bronze medal. the team finished second in the constructors'championship, with a total of 16 wins. \n\n= = team selection = = \n\nthe team's first season was the first in a row in the history of the team. the team was led by the team's best player, and the team was led by the team's best forward. the team was led by the team's best forward, with a team that included the top three teams in the team. the team was led by team captain jimmy hart, who had been the team's top scorer with 9 goals. the team was led by team captain jimmy hart, who had been the team's top scorer with 1 @,@ 032 points. the team was led by team captain jimmy hart, who had been the team's head\n"
    }
   ],
   "source": "from dispatcher.generate_dispatcher_from_openwebtext_on_wikidata103 import generate_text\nprint(generate_text(prompt))"
  },
  {
   "cell_type": "code",
   "execution_count": null,
   "metadata": {},
   "outputs": [],
   "source": ""
  }
 ],
 "metadata": {
  "kernelspec": {
   "display_name": "dispatcher",
   "language": "python",
   "name": "dispatcher"
  },
  "language_info": {
   "codemirror_mode": {
    "name": "ipython",
    "version": 3
   },
   "file_extension": ".py",
   "mimetype": "text/x-python",
   "name": "python",
   "nbconvert_exporter": "python",
   "pygments_lexer": "ipython3",
   "version": "3.6.9"
  }
 },
 "nbformat": 4,
 "nbformat_minor": 4
}
